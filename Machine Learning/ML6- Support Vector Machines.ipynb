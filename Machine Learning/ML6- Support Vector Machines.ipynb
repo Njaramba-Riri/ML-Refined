{
 "cells": [
  {
   "cell_type": "code",
   "execution_count": 1,
   "id": "3dda1842",
   "metadata": {},
   "outputs": [],
   "source": [
    "%matplotlib inline\n",
    "import numpy as np\n",
    "from scipy import stats\n",
    "import matplotlib.pyplot as plt\n",
    "import seaborn as sns\n",
    "sns.set()"
   ]
  },
  {
   "cell_type": "markdown",
   "id": "e18c0d1d",
   "metadata": {},
   "source": [
    "#### Motivating Support Vector Machines\n"
   ]
  },
  {
   "cell_type": "code",
   "execution_count": null,
   "id": "9ce891f5",
   "metadata": {},
   "outputs": [],
   "source": [
    "from sklearn.datasets import make_blobs\n",
    "X,y=make_blobs(n_samples=50, centers=2,\n",
    "              random_state=0, cluster_std=0.60)\n",
    "plt.scatter(X[:,0],X[:,1],c=y,s=50,cmap='viridis');"
   ]
  },
  {
   "cell_type": "code",
   "execution_count": null,
   "id": "b8e96cf1",
   "metadata": {},
   "outputs": [],
   "source": [
    "Xfit=np.linspace(-1,3.5)\n",
    "plt.scatter(X[:,0],X[:,1],c=y,s=50,cmap='viridis')\n",
    "plt.plot([0.6],[2.1],'x',color='red',markeredgewidth=2,markersize=10)\n",
    "\n",
    "for m,b in [(1,0.65),(0.5,1.6),(-0.2,2.9)]:\n",
    "    plt.plot(Xfit,m*Xfit+b,'-k')\n",
    "\n",
    "plt.xlim(-1,3.5);"
   ]
  },
  {
   "cell_type": "markdown",
   "id": "6fb78a26",
   "metadata": {},
   "source": [
    "### Support Vector Machines: Maximizing the Margin"
   ]
  },
  {
   "cell_type": "code",
   "execution_count": null,
   "id": "e42fd9c9",
   "metadata": {},
   "outputs": [],
   "source": [
    "Xfit=np.linspace(-1,3.5)\n",
    "plt.scatter(X[:,0],X[:,1],c=y, s=50, cmap='viridis')\n",
    "\n",
    "for m,b,d in[(1,0.65,0.33),(0.5,1.6,0.55),(-0.2,2.9,0.2)]:\n",
    "    yfit=m*Xfit+b\n",
    "    plt.plot(Xfit,yfit,'-k')\n",
    "    plt.fill_between(Xfit,yfit-d,yfit+d, edgecolor='none',\n",
    "                    color='#AAAAAA', alpha=0.4)\n",
    "plt.xlim(-1,3.5);"
   ]
  },
  {
   "cell_type": "markdown",
   "id": "e1312bc5",
   "metadata": {},
   "source": [
    "#### Fitting a support vector machine"
   ]
  },
  {
   "cell_type": "code",
   "execution_count": null,
   "id": "ebf5ebd8",
   "metadata": {},
   "outputs": [],
   "source": [
    "from sklearn.svm import SVC#\"support vector classifier\"\n",
    "model=SVC(kernel='linear',C=1E10)\n",
    "model.fit(X,y)"
   ]
  },
  {
   "cell_type": "code",
   "execution_count": null,
   "id": "3435c7dc",
   "metadata": {},
   "outputs": [],
   "source": [
    "#create a function that will plot the SVM decision boundaries \n",
    "def plot_svc_function(model,ax=None, plot_support=True):\n",
    "        \"\"\"Plot the decision funtion for a two-dimensional SVC\"\"\"\n",
    "        \n",
    "        if ax is None:\n",
    "            ax=plt.gca()\n",
    "        xlim=ax.get_xlim()\n",
    "        ylim=ax.get_ylim()\n",
    "        \n",
    "        #create grid to evealuate model\n",
    "        x=np.linspace(xlim[0],xlim[1],30)\n",
    "        y=np.linspace(ylim[0],ylim[1],30)\n",
    "        Y,X=np.meshgrid(y,x)\n",
    "        xy=np.vstack([X.ravel(),Y.ravel()]).T\n",
    "        p=model.decision_function(xy).reshape(X.shape)\n",
    "        \n",
    "        #plot decision boundaries and margin\n",
    "        ax.contour(X,Y,p,colors='k',\n",
    "                  levels=[-1,0,1], alpha=0.5,\n",
    "                  linestyles=['--','-','--'])\n",
    "        \n",
    "        #plot support vectors\n",
    "        if plot_support:\n",
    "            ax.scatter(model.support_vectors_[:,0],\n",
    "                      model.support_vectors_[:,1],\n",
    "                      s=300, linewidth=1, facecolors='none');\n",
    "        ax.set_xlim(xlim)\n",
    "        ax.set_ylim(ylim)"
   ]
  },
  {
   "cell_type": "code",
   "execution_count": null,
   "id": "ed9acb31",
   "metadata": {},
   "outputs": [],
   "source": [
    "plt.scatter(X[:,0],X[:,1], c=y,s=50, cmap='viridis')\n",
    "plot_svc_function(model);"
   ]
  },
  {
   "cell_type": "code",
   "execution_count": null,
   "id": "595ea2c1",
   "metadata": {},
   "outputs": [],
   "source": [
    "model.support_vectors_\n"
   ]
  },
  {
   "cell_type": "code",
   "execution_count": null,
   "id": "845410ca",
   "metadata": {},
   "outputs": [],
   "source": [
    "#a model that learned from the first 60 points and first 120 points of this dataset\n",
    "def plot_svm(N=10,ax=None):\n",
    "    X,y=make_blobs(n_samples=200,n_features=2,centers=2,\n",
    "                  random_state=0,cluster_std=0.60)\n",
    "    X=X[:N]\n",
    "    y=y[:N]\n",
    "    model=SVC(kernel='linear',C=1E10)\n",
    "    model.fit(X,y)\n",
    "    \n",
    "    ax=ax or plt.gca()\n",
    "    ax.scatter(X[:,0],X[:,1],c=y,s=50, cmap='viridis')\n",
    "    ax.set_xlim(-1,4)\n",
    "    ax.set_ylim(-1,6)\n",
    "    plot_svc_function(model,ax)\n",
    "    \n",
    "fig, ax=plt.subplots(1,2, figsize=(16,6))\n",
    "fig.subplots_adjust(left=0.0625, right=0.95, wspace=0.1)\n",
    "for axi,N in zip(ax,[60,120]):\n",
    "    plot_svm(N,axi)\n",
    "    axi.set_title('N={0}'.format(N))"
   ]
  },
  {
   "cell_type": "code",
   "execution_count": null,
   "id": "54f55538",
   "metadata": {},
   "outputs": [],
   "source": [
    "from ipywidgets import interact,fixed\n",
    "interact(plot_svm,N=[10,200],ax=fixed(None));"
   ]
  },
  {
   "cell_type": "markdown",
   "id": "c9268eb9",
   "metadata": {},
   "source": [
    "##### Beyond linear boundaries:Kernel SVM"
   ]
  },
  {
   "cell_type": "code",
   "execution_count": null,
   "id": "c9a94eb4",
   "metadata": {},
   "outputs": [],
   "source": [
    "from sklearn.datasets import make_circles\n",
    "X,y=make_circles(100,factor=.1,noise=.1)\n",
    "\n",
    "clf=SVC(kernel='linear').fit(X,y)\n",
    "\n",
    "plt.scatter(X[:,0],X[:,1],c=y,s=50, cmap='viridis')\n",
    "plot_svc_function(clf,plot_support=False);"
   ]
  },
  {
   "cell_type": "code",
   "execution_count": null,
   "id": "23154893",
   "metadata": {},
   "outputs": [],
   "source": [
    "r=np.exp(-(X**2).sum(1))"
   ]
  },
  {
   "cell_type": "code",
   "execution_count": null,
   "id": "1f534819",
   "metadata": {},
   "outputs": [],
   "source": [
    "from mpl_toolkits import mplot3d\n",
    "\n",
    "def plot_3D(elev=30,azim=30,X=X, y=y):\n",
    "    ax=plt.subplot(projection='3d')\n",
    "    ax.scatter3D(X[:,0],X[:,1],r,c=y,s=50,cmap='viridis')\n",
    "    ax.view_init(elev=elev,azim=azim)\n",
    "    ax.set_xlabel('x')\n",
    "    ax.set_ylabel('y')\n",
    "    ax.set_zlabel('r')\n",
    "\n",
    "interact(plot_3D,X=fixed(X),y=fixed(y));"
   ]
  },
  {
   "cell_type": "code",
   "execution_count": null,
   "id": "92b11465",
   "metadata": {},
   "outputs": [],
   "source": [
    "clf=SVC(kernel='rbf',C=1E6)\n",
    "clf.fit(X,y)"
   ]
  },
  {
   "cell_type": "code",
   "execution_count": null,
   "id": "2dc81104",
   "metadata": {},
   "outputs": [],
   "source": [
    "plt.scatter(X[:,0],X[:,1],c=y,s=50,cmap='viridis')\n",
    "plot_svc_function(clf)\n",
    "plt.title('Kernel SVM fit')\n",
    "plt.scatter(clf.support_vectors_[:,0],clf.support_vectors_[:,1],\n",
    "           s=300,lw=1,facecolors='none');"
   ]
  },
  {
   "cell_type": "markdown",
   "id": "6f44fa22",
   "metadata": {},
   "source": [
    "#### Tuning the SVM: Softening margins"
   ]
  },
  {
   "cell_type": "code",
   "execution_count": null,
   "id": "684030dd",
   "metadata": {},
   "outputs": [],
   "source": [
    "X,y=make_blobs(n_samples=100,centers=2,\n",
    "              random_state=0, cluster_std=1.2)\n",
    "plt.scatter(X[:,0],X[:,1],c=y,s=50,cmap='viridis');"
   ]
  },
  {
   "cell_type": "code",
   "execution_count": null,
   "id": "48b2eba0",
   "metadata": {},
   "outputs": [],
   "source": [
    "X,y=make_blobs(n_samples=100,centers=2,\n",
    "              random_state=0, cluster_std=0.8)\n",
    "\n",
    "fig,ax=plt.subplots(1,2, figsize=(16,9))\n",
    "fig.subplots_adjust(left=0.0625, right=0.95, wspace=0.1)\n",
    "\n",
    "for axi,C in zip(ax,[10.0,0.1]):\n",
    "    model=SVC(kernel='linear',C=C).fit(X,y)\n",
    "    axi.scatter(X[:,0],X[:,1],c=y,s=50,cmap='viridis')\n",
    "    plot_svc_function(model,axi)\n",
    "    axi.scatter(model.support_vectors_[:,0],\n",
    "               model.support_vectors_[:,1],\n",
    "               s=300, lw=1, facecolors='none');\n",
    "    \n",
    "    axi.set_title('C={0:.1f}'.format(C),size=14)"
   ]
  },
  {
   "cell_type": "markdown",
   "id": "32dea8f1",
   "metadata": {},
   "source": [
    "### Example: Face Recognition"
   ]
  },
  {
   "cell_type": "code",
   "execution_count": null,
   "id": "db829425",
   "metadata": {},
   "outputs": [],
   "source": [
    "from sklearn.datasets import fetch_lfw_people\n",
    "faces=fetch_lfw_people(min_faces_per_person=60)\n",
    "print(faces.target_names)\n",
    "print(faces.images.shape)"
   ]
  },
  {
   "cell_type": "code",
   "execution_count": null,
   "id": "99b350ac",
   "metadata": {},
   "outputs": [],
   "source": [
    "fig,ax=plt.subplots(3,5)\n",
    "for i, axi in enumerate(ax.flat):\n",
    "    axi.imshow(faces.images[i],cap='bone')\n",
    "    axi.set(xticks=[],yticks=[],\n",
    "           xlabel=faces.target_names[faces.target[i]])"
   ]
  },
  {
   "cell_type": "code",
   "execution_count": null,
   "id": "7296cb60",
   "metadata": {},
   "outputs": [],
   "source": [
    "from sklearn.svm import SVC\n",
    "from sklearn.decomposition import PCA as RandomizedPCA\n",
    "from sklearn.pipeline import make_pipeline\n",
    "\n",
    "pca=RandomizedPCA(n_components=150,whiten=True, random_state=42)\n",
    "svc=SVC(kernel='rbf',class_weight='balanced')\n",
    "model=make_pipeline(pca,svc)"
   ]
  },
  {
   "cell_type": "code",
   "execution_count": null,
   "id": "3fa9c1a3",
   "metadata": {},
   "outputs": [],
   "source": [
    "from sklearn.model_selection import train_test_split\n",
    "Xtrain,Xtest,ytrain,ytest=train_test_split(faces.data,faces.target,\n",
    "                                          random_state=42)"
   ]
  },
  {
   "cell_type": "code",
   "execution_count": null,
   "id": "e782676a",
   "metadata": {},
   "outputs": [],
   "source": [
    "from sklearn.model_selection  import GridSearchCV\n",
    "param_grid={'svc__c':[1,5,10,50],\n",
    "          'svc__gamma':[0.0001,0.0005,0.001,0.005]}\n",
    "grid=GridSearchCV(model,param_grid)\n",
    "%time grid.fit(Xtrain,ytrain)\n",
    "print(grid.best_params_)"
   ]
  },
  {
   "cell_type": "code",
   "execution_count": null,
   "id": "f4627e6c",
   "metadata": {},
   "outputs": [],
   "source": [
    "model=grid.best_estimator_\n",
    "yfit=model.predict(Xtest)"
   ]
  },
  {
   "cell_type": "code",
   "execution_count": null,
   "id": "0362114a",
   "metadata": {},
   "outputs": [],
   "source": [
    "fig,ax=plt.subplots(4,6)\n",
    "for i, axi in enumerate(ax.flat):\n",
    "    axi.imshow(Xtest[i].reshape(62,47),cmap='bone')\n",
    "    axi.set(xticks=[],yticks=[])\n",
    "    axi.set_ylabel(faces.target_names[yfit[i]].split()[-1],\n",
    "                  color='black' if yfit[i]==ytest[i] else 'red')\n",
    "    fig.suptitle('Predicted Names: Incorrect labels in red', size=14);"
   ]
  },
  {
   "cell_type": "code",
   "execution_count": null,
   "id": "595f4f12",
   "metadata": {},
   "outputs": [],
   "source": [
    "from sklearn.metrics import classification_report\n",
    "print(classification_report(ytest,yfit,\n",
    "                           target_names=faces.target_names))"
   ]
  },
  {
   "cell_type": "code",
   "execution_count": null,
   "id": "d3f82783",
   "metadata": {},
   "outputs": [],
   "source": [
    "from sklearn.metrics import confusion_matrix\n",
    "mat=confusion_matrix(ytest,yfit)\n",
    "sns.heatmap(mat.T,square=True, annot=True, fmt='d', cbar=False,\n",
    "           xticklabels=faces.target_names,\n",
    "           yticklabels=faces.target_names)\n",
    "plt.xlabel('true label')\n",
    "plt.ylabel('predicted label');"
   ]
  }
 ],
 "metadata": {
  "kernelspec": {
   "display_name": "Python 3 (ipykernel)",
   "language": "python",
   "name": "python3"
  },
  "language_info": {
   "codemirror_mode": {
    "name": "ipython",
    "version": 3
   },
   "file_extension": ".py",
   "mimetype": "text/x-python",
   "name": "python",
   "nbconvert_exporter": "python",
   "pygments_lexer": "ipython3",
   "version": "3.9.13"
  }
 },
 "nbformat": 4,
 "nbformat_minor": 5
}
