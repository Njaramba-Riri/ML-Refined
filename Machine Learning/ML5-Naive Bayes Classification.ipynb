{
 "cells": [
  {
   "cell_type": "code",
   "execution_count": null,
   "id": "4ed09834",
   "metadata": {},
   "outputs": [],
   "source": [
    "%matplotlib inline\n",
    "import numpy as np\n",
    "import matplotlib.pyplot as plt\n",
    "import seaborn as sns\n",
    "sns.set()"
   ]
  },
  {
   "cell_type": "markdown",
   "id": "76a38179",
   "metadata": {},
   "source": [
    "### Gaussian Naive Bayes"
   ]
  },
  {
   "cell_type": "code",
   "execution_count": null,
   "id": "2646fef6",
   "metadata": {},
   "outputs": [],
   "source": [
    "from sklearn.datasets import make_blobs\n",
    "X,y=make_blobs(n_samples=100,n_features=2,centers=2, \n",
    "               random_state=2, cluster_std=1.5)\n",
    "plt.scatter(X[:,0],X[:,1], c=y, s=50, cmap='RdBu');"
   ]
  },
  {
   "cell_type": "code",
   "execution_count": null,
   "id": "7fef7d92",
   "metadata": {},
   "outputs": [],
   "source": [
    "from sklearn.naive_bayes import GaussianNB\n",
    "model=GaussianNB()\n",
    "model.fit(X,y);"
   ]
  },
  {
   "cell_type": "code",
   "execution_count": null,
   "id": "bc59267a",
   "metadata": {},
   "outputs": [],
   "source": [
    "rng=np.random.RandomState(0)\n",
    "Xnew=[-6,-14]+[14,18]*rng.rand(2000,2)\n",
    "ynew=model.predict(Xnew)"
   ]
  },
  {
   "cell_type": "code",
   "execution_count": null,
   "id": "35689c95",
   "metadata": {},
   "outputs": [],
   "source": [
    "plt.scatter(X[:,0],X[:, 1],c=y,s=50, cmap='RdBu')\n",
    "lim=plt.axis()\n",
    "plt.scatter(Xnew[:, 0],Xnew[:, 1],c=ynew, s=50, cmap='RdBu', alpha=0.1)\n",
    "plt.axis(lim);"
   ]
  },
  {
   "cell_type": "code",
   "execution_count": null,
   "id": "68d01b67",
   "metadata": {},
   "outputs": [],
   "source": [
    "yprob=model.predict_proba(Xnew)\n",
    "yprob[-8:].round(2)"
   ]
  },
  {
   "cell_type": "markdown",
   "id": "7745243c",
   "metadata": {},
   "source": [
    "### Multinomial Naive Bayes"
   ]
  },
  {
   "cell_type": "markdown",
   "id": "d66efd52",
   "metadata": {},
   "source": [
    "#### Example: Classifying text"
   ]
  },
  {
   "cell_type": "code",
   "execution_count": null,
   "id": "b06f521c",
   "metadata": {},
   "outputs": [],
   "source": [
    "from sklearn.datasets import fetch_20newsgroups\n",
    "data=fetch_20newsgroups()\n",
    "data.target.names"
   ]
  },
  {
   "cell_type": "code",
   "execution_count": null,
   "id": "9d18e28b",
   "metadata": {},
   "outputs": [],
   "source": [
    "categories=['talk.religion.misc','soc.religion.christian','sci.space',\n",
    "           'comp.graphics']\n",
    "train=fetch_20newsgroups(subset='train', categories=categories)\n",
    "test=fetch_20newsgroups(subset='test', categories=categories)"
   ]
  },
  {
   "cell_type": "code",
   "execution_count": null,
   "id": "d96a60d3",
   "metadata": {},
   "outputs": [],
   "source": [
    "print(train.data[5])"
   ]
  },
  {
   "cell_type": "code",
   "execution_count": null,
   "id": "31181be2",
   "metadata": {},
   "outputs": [],
   "source": [
    "from sklearn.feature_extraction.text import TfidfVectorizer\n",
    "from sklearn.naive_bayes import MultinomialNB\n",
    "from sklearn.pipeline import make_pipeline\n",
    "\n",
    "model=make_pipeline(TfidfVectorizer(), MultinomialNB)"
   ]
  },
  {
   "cell_type": "code",
   "execution_count": null,
   "id": "8b4d042d",
   "metadata": {},
   "outputs": [],
   "source": [
    "model.fit(train.data, train.target)\n",
    "labels=model.predict(test.data)"
   ]
  },
  {
   "cell_type": "code",
   "execution_count": null,
   "id": "3aa1f04d",
   "metadata": {},
   "outputs": [],
   "source": [
    "from sklearn.metrics import confusion_matrix\n",
    "mat=confusion_matrix(test.target, labels)\n",
    "sns.heatmap(mat.T, square=True,annot=True, fmt='d', cbar=False,\n",
    "           xticklabels=train.target_names, yticklabels=train.target_names)\n",
    "plt.xlabel('true label')\n",
    "plt.ylabel('predicted label')"
   ]
  },
  {
   "cell_type": "code",
   "execution_count": null,
   "id": "084b7d9f",
   "metadata": {},
   "outputs": [],
   "source": [
    "def predict_category(s, train=train, model=model):\n",
    "    pred=model.predict([s])\n",
    "    return train.target_names(pred[0])"
   ]
  },
  {
   "cell_type": "code",
   "execution_count": null,
   "id": "a0a913a4",
   "metadata": {},
   "outputs": [],
   "source": [
    "predict_category('sending a payload to the ISS')"
   ]
  },
  {
   "cell_type": "code",
   "execution_count": null,
   "id": "b7a47d3e",
   "metadata": {},
   "outputs": [],
   "source": [
    "predict_category('discussing islam vs atheism')"
   ]
  },
  {
   "cell_type": "code",
   "execution_count": null,
   "id": "2914c45b",
   "metadata": {},
   "outputs": [],
   "source": [
    "predict_category('determining the screen resolution')"
   ]
  },
  {
   "cell_type": "code",
   "execution_count": null,
   "id": "1e0b264b",
   "metadata": {},
   "outputs": [],
   "source": []
  },
  {
   "cell_type": "code",
   "execution_count": null,
   "id": "2cc72836",
   "metadata": {},
   "outputs": [],
   "source": []
  },
  {
   "cell_type": "code",
   "execution_count": null,
   "id": "d0ec6bef",
   "metadata": {},
   "outputs": [],
   "source": []
  },
  {
   "cell_type": "code",
   "execution_count": null,
   "id": "378a14ca",
   "metadata": {},
   "outputs": [],
   "source": []
  },
  {
   "cell_type": "code",
   "execution_count": null,
   "id": "cb3dc29f",
   "metadata": {},
   "outputs": [],
   "source": []
  },
  {
   "cell_type": "code",
   "execution_count": null,
   "id": "7c6cab37",
   "metadata": {},
   "outputs": [],
   "source": []
  }
 ],
 "metadata": {
  "kernelspec": {
   "display_name": "Python 3 (ipykernel)",
   "language": "python",
   "name": "python3"
  },
  "language_info": {
   "codemirror_mode": {
    "name": "ipython",
    "version": 3
   },
   "file_extension": ".py",
   "mimetype": "text/x-python",
   "name": "python",
   "nbconvert_exporter": "python",
   "pygments_lexer": "ipython3",
   "version": "3.9.13"
  }
 },
 "nbformat": 4,
 "nbformat_minor": 5
}
